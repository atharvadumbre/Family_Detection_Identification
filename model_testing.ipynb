{
 "cells": [
  {
   "cell_type": "code",
   "execution_count": 1,
   "id": "d639a020",
   "metadata": {},
   "outputs": [],
   "source": [
    "import cv2\n",
    "import torch"
   ]
  },
  {
   "cell_type": "code",
   "execution_count": 2,
   "id": "b4375a70",
   "metadata": {},
   "outputs": [],
   "source": [
    "img = cv2.imread('test_img2.jpeg')\n",
    "image_rgb = cv2.cvtColor(img, cv2.COLOR_BGR2RGB)"
   ]
  },
  {
   "cell_type": "code",
   "execution_count": 3,
   "id": "0064e313",
   "metadata": {},
   "outputs": [
    {
     "name": "stderr",
     "output_type": "stream",
     "text": [
      "YOLOv5  2021-10-5 torch 1.9.1+cu111 CUDA:0 (NVIDIA GeForce RTX 3060 Laptop GPU, 6143.5MB)\n",
      "\n",
      "Fusing layers... \n",
      "Model Summary: 224 layers, 7062001 parameters, 0 gradients, 16.4 GFLOPs\n",
      "Adding AutoShape... \n"
     ]
    }
   ],
   "source": [
    "model = torch.hub.load('yolov5-master/', 'custom', path='yolov5-master/runs/train/exp2/weights/best.pt', source='local')"
   ]
  },
  {
   "cell_type": "code",
   "execution_count": 4,
   "id": "56dd9114",
   "metadata": {},
   "outputs": [
    {
     "name": "stderr",
     "output_type": "stream",
     "text": [
      "image 1/1: 981x1280 1 Atharva, 1 Manas, 1 Dilipkumar, 1 Sangita\n",
      "Speed: 7.0ms pre-process, 35.0ms inference, 8.0ms NMS per image at shape (1, 3, 512, 640)\n",
      "Saved 1 image to \u001b[1mruns\\detect\\exp\u001b[0m\n"
     ]
    }
   ],
   "source": [
    "results = model(image_rgb, size=640) \n",
    "\n",
    "results.print()\n",
    "results.show()\n",
    "results.save()"
   ]
  }
 ],
 "metadata": {
  "kernelspec": {
   "display_name": "Python 3 (ipykernel)",
   "language": "python",
   "name": "python3"
  },
  "language_info": {
   "codemirror_mode": {
    "name": "ipython",
    "version": 3
   },
   "file_extension": ".py",
   "mimetype": "text/x-python",
   "name": "python",
   "nbconvert_exporter": "python",
   "pygments_lexer": "ipython3",
   "version": "3.9.6"
  }
 },
 "nbformat": 4,
 "nbformat_minor": 5
}
